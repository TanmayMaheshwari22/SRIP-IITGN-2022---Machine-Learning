{
  "nbformat": 4,
  "nbformat_minor": 0,
  "metadata": {
    "colab": {
      "name": "NeuralNetworks using JAX.ipynb",
      "provenance": [],
      "collapsed_sections": []
    },
    "kernelspec": {
      "name": "python3",
      "display_name": "Python 3"
    },
    "language_info": {
      "name": "python"
    }
  },
  "cells": [
    {
      "cell_type": "markdown",
      "source": [
        "Question-3"
      ],
      "metadata": {
        "id": "2nKSgrdvgfho"
      }
    },
    {
      "cell_type": "code",
      "execution_count": 1,
      "metadata": {
        "id": "p7ufmNdiuBIq"
      },
      "outputs": [],
      "source": [
        "#importing the required libraries.\n",
        "import numpy as np #importing numpy\n",
        "import jax.numpy as jnp #importing jax's numpy library so that all the functions of numpy can work in jax\n",
        "from jax.scipy.special import logsumexp #importing jax's function to sum log\n",
        "import jax #importing jax\n",
        "from jax import jit, vmap, pmap, grad, value_and_grad\n",
        "\n",
        "from torchvision.datasets import MNIST #importing  Pytorch so that MNIST data could be loaded\n",
        "from torch.utils.data import DataLoader #importing data loader to iterate through the data"
      ]
    },
    {
      "cell_type": "code",
      "source": [
        "#We will be building a model using MLP classifier\n",
        "# Our model will have two hidden layers and 1 input and ouput layer\n",
        "# Number of nodes in each layer will be 784,512,256,10"
      ],
      "metadata": {
        "id": "XzPej_BPksO7"
      },
      "execution_count": null,
      "outputs": []
    },
    {
      "cell_type": "markdown",
      "source": [
        "Function below will help to initialise the parameters of our model"
      ],
      "metadata": {
        "id": "T8-3KL_CTZsB"
      }
    },
    {
      "cell_type": "code",
      "source": [
        "\n",
        "seed = 0 #While using jax.random.PRNGKey we have to pass seed as an argument\n",
        "mnist_img_size = (28, 28)\n",
        "# It will use to generate all the parameters for the model i.e weights and biases\n",
        "# It takes data in the flatten form \n",
        "def params_MLP(layer_widths, parent_key, scale=0.01): #It takes argument as the number of neurons in each layer ,key for random number generation and scale to scale the data\n",
        "    # Generating all the parameters using jax.random function\n",
        "    params = []\n",
        "    keys = jax.random.split(parent_key, num=len(layer_widths)-1)\n",
        "\n",
        "    for in_width, out_width, key in zip(layer_widths[:-1], layer_widths[1:], keys):\n",
        "        weight_key, bias_key = jax.random.split(key)\n",
        "        params.append([\n",
        "                       scale*jax.random.normal(weight_key, shape=(out_width, in_width)),\n",
        "                       scale*jax.random.normal(bias_key, shape=(out_width,))\n",
        "                       ]\n",
        "        )\n",
        "\n",
        "    return params\n",
        "\n",
        "key = jax.random.PRNGKey(seed) # This function of JAX is used to create random numbers by producing keys.\n",
        "MLP_params = params_MLP([784, 512, 256, 10], key) # We will pass the number of nodes in each layer to the def init_MLP"
      ],
      "metadata": {
        "id": "2S-w-bEHuMm2",
        "colab": {
          "base_uri": "https://localhost:8080/"
        },
        "outputId": "6e27e36c-c92a-4335-eb06-4e3e737a5e00"
      },
      "execution_count": 2,
      "outputs": [
        {
          "output_type": "stream",
          "name": "stderr",
          "text": [
            "WARNING:absl:No GPU/TPU found, falling back to CPU. (Set TF_CPP_MIN_LOG_LEVEL=0 and rerun for more info.)\n"
          ]
        }
      ]
    },
    {
      "cell_type": "code",
      "source": [
        "print(jax.tree_map(lambda x: x.shape, MLP_params)) # It is used to iterate through the pytree\n",
        "# In this case we are getting the shape of the weights and biases of each layer"
      ],
      "metadata": {
        "colab": {
          "base_uri": "https://localhost:8080/"
        },
        "id": "fo9AVyWDe16N",
        "outputId": "f2ed101f-98ad-48c2-ffef-75a776d99d14"
      },
      "execution_count": 3,
      "outputs": [
        {
          "output_type": "stream",
          "name": "stdout",
          "text": [
            "[[(512, 784), (512,)], [(256, 512), (256,)], [(10, 256), (10,)]]\n"
          ]
        }
      ]
    },
    {
      "cell_type": "markdown",
      "source": [
        "Function below will help us to predict output given the input images and parameters as input"
      ],
      "metadata": {
        "id": "NeiOQdCEThVb"
      }
    },
    {
      "cell_type": "code",
      "source": [
        "#This function helps in predicting the output\n",
        "#For hidden layers we will use relu function\n",
        "# This function will take paramters(weights and biases) and inputs(image in flattened form) as arguments\n",
        "def MLP_predict(params, x):\n",
        "    hidden_layers = params[:-1]\n",
        "\n",
        "    activation = x\n",
        "    for w, b in hidden_layers:\n",
        "        activation = jax.nn.relu(jnp.dot(w, activation) + b) #applying relu function \n",
        "    # Deaking last layer separately as we can't apply relu on it.\n",
        "    w_last, b_last = params[-1]\n",
        "    logits = jnp.dot(w_last, activation) + b_last\n",
        "\n",
        "    # log(exp(o1)) - log(sum(exp(o1), exp(o2), ..., exp(o10)))\n",
        "    # log( exp(o1) / sum(...) )\n",
        "    return logits - logsumexp(logits) # it can be considered as softmax function with log.\n",
        "\n",
        "# tests\n",
        "\n",
        "# test single example\n",
        "\n",
        "dummy_img_flat = np.random.randn(np.prod(mnist_img_size))\n",
        "print(dummy_img_flat.shape)\n",
        "\n",
        "prediction = MLP_predict(MLP_params, dummy_img_flat)\n",
        "print(prediction.shape)\n",
        "\n",
        "# test batched function\n",
        "batched_MLP_predict = vmap(MLP_predict, in_axes=(None, 0)) #vmap vectorise our functions\n",
        "\n",
        "dummy_imgs_flat = np.random.randn(16, np.prod(mnist_img_size)) # taking 16 images for example\n",
        "print(dummy_imgs_flat.shape)\n",
        "predictions = batched_MLP_predict(MLP_params, dummy_imgs_flat)\n",
        "print(predictions.shape)"
      ],
      "metadata": {
        "colab": {
          "base_uri": "https://localhost:8080/"
        },
        "id": "tiHEb2ITsNlV",
        "outputId": "d73644d0-2f1a-414f-91c8-783154652239"
      },
      "execution_count": 4,
      "outputs": [
        {
          "output_type": "stream",
          "name": "stdout",
          "text": [
            "(784,)\n",
            "(10,)\n",
            "(16, 784)\n",
            "(16, 10)\n"
          ]
        }
      ]
    },
    {
      "cell_type": "markdown",
      "source": [
        "Function below will help us to load MNIST data from pytorch and converting it into the required form in which our model takes input i.e it take input in flatten form"
      ],
      "metadata": {
        "id": "mjeXGvvBTpxz"
      }
    },
    {
      "cell_type": "code",
      "source": [
        "# This function will be used to flatten the images into 1-D form\n",
        "def custom_transform(x):\n",
        "     return np.ravel(np.array(x, dtype=np.float32))\n",
        "\n",
        "def custom_collate_fn(batch):\n",
        "      transposed_data = list(zip(*batch))\n",
        "\n",
        "      labels = np.array(transposed_data[1])\n",
        "      imgs = np.stack(transposed_data[0])\n",
        "\n",
        "      return imgs, labels\n",
        "\n",
        "batch_size = 128\n",
        "train_dataset = MNIST(root='train_mnist', train=True, download=True, transform=custom_transform) #loading the training data\n",
        "test_dataset = MNIST(root='test_mnist', train=False, download=True, transform=custom_transform) #loading the testing data\n",
        "\n",
        "#Data Loader will be used to iterate between the input and the output label\n",
        "train_loader = DataLoader(train_dataset, batch_size, shuffle=True, collate_fn=custom_collate_fn, drop_last=True) # Using Data loader to iterate thorugh training data \n",
        "test_loader = DataLoader(test_dataset, batch_size, shuffle=False, collate_fn=custom_collate_fn, drop_last=True) # Iterating through test data\n",
        "\n",
        "# # test\n",
        "# batch_data = next(iter(train_loader))\n",
        "# imgs = batch_data[0]\n",
        "# lbls = batch_data[1]\n",
        "# print(imgs.shape, imgs[0].dtype, lbls.shape, lbls[0].dtype)\n",
        "\n",
        "# optimization - loading the whole dataset into memory\n",
        "train_images = jnp.array(train_dataset.data).reshape(len(train_dataset), -1) # Laoding and Reshaping the training input into the required form\n",
        "train_lbls = jnp.array(train_dataset.targets) # Getting the labels\n",
        "\n",
        "#Similarly for test data\n",
        "test_images = jnp.array(test_dataset.data).reshape(len(test_dataset), -1)\n",
        "test_lbls = jnp.array(test_dataset.targets)\n"
      ],
      "metadata": {
        "id": "N6wWg7xTt8OW"
      },
      "execution_count": 8,
      "outputs": []
    },
    {
      "cell_type": "markdown",
      "source": [
        "This function is used to create the loss function,accuracy function and gradient descent function"
      ],
      "metadata": {
        "id": "3zmUa4lzYZXG"
      }
    },
    {
      "cell_type": "code",
      "source": [
        "num_epochs = 5 #No. of epochs i.e number of times we want to run our code\n",
        "\n",
        "def loss_fn(params, imgs, gt_lbls): # This function will return the probability of each class and class with the maximum prob will be our answer.\n",
        "    predictions = batched_MLP_predict(params, imgs)\n",
        "\n",
        "    return -jnp.mean(predictions * gt_lbls)\n",
        "\n",
        "def accuracy(params, dataset_imgs, dataset_lbls): #This function returns accuracy of our model\n",
        "    pred_classes = jnp.argmax(batched_MLP_predict(params, dataset_imgs), axis=1)\n",
        "    return jnp.mean(dataset_lbls == pred_classes) \n",
        "\n",
        "@jit #This function is used for gradient descent\n",
        "def update(params, imgs, gt_lbls, lr=0.01):\n",
        "    loss, grads = value_and_grad(loss_fn)(params, imgs, gt_lbls)\n",
        "\n",
        "    return loss, jax.tree_multimap(lambda p, g: p - lr*g, params, grads) \n",
        "\n",
        "# Create a MLP\n",
        "# Calculating the accuracy of our model\n",
        "MLP_params = params_MLP([np.prod(mnist_img_size), 512, 256, len(MNIST.classes)], key) #Using params_MLP function to initialise weights and biases\n",
        "loss_array_per_epoch=[] #This will store the loss after each epoch\n",
        "loss_array=[] # This will store the mean of loss of each epoch\n",
        "# Running loop\n",
        "for epoch in range(num_epochs):\n",
        "\n",
        "    for cnt, (imgs, lbls) in enumerate(train_loader):\n",
        "\n",
        "        gt_labels = jax.nn.one_hot(lbls, len(MNIST.classes)) # This function will convert our output into one hot encoded form\n",
        "        \n",
        "        loss, MLP_params = update(MLP_params, imgs, gt_labels)\n",
        "        \n",
        "        if cnt % 50 == 0:\n",
        "          loss_array_per_epoch.append(loss)\n",
        "          print(loss)\n",
        "    loss_array.append(np.mean(loss_array_per_epoch))\n",
        "    print(f'Epoch {epoch}, train acc = {accuracy(MLP_params, train_images, train_lbls)} ,test acc = {accuracy(MLP_params, test_images, test_lbls)}')\n",
        "    "
      ],
      "metadata": {
        "colab": {
          "base_uri": "https://localhost:8080/"
        },
        "id": "meZney6Z4h_W",
        "outputId": "f2e63e24-7ee0-453b-d2ce-9bd01c219a8d"
      },
      "execution_count": 9,
      "outputs": [
        {
          "output_type": "stream",
          "name": "stdout",
          "text": [
            "0.24367991\n",
            "0.092278086\n",
            "0.05395074\n",
            "0.05768485\n",
            "0.03936691\n",
            "0.03720045\n",
            "0.02969088\n",
            "0.035295505\n",
            "0.038697656\n",
            "0.020503357\n",
            "Epoch 0, train acc = 0.9146666526794434 ,test acc = 0.9158999919891357\n",
            "0.03332108\n",
            "0.034529954\n",
            "0.01722318\n",
            "0.02683354\n",
            "0.015945788\n",
            "0.024562618\n",
            "0.026031425\n",
            "0.031669255\n",
            "0.018338528\n",
            "0.015763743\n",
            "Epoch 1, train acc = 0.9349499940872192 ,test acc = 0.9354999661445618\n",
            "0.035945144\n",
            "0.028820265\n",
            "0.016952774\n",
            "0.018214969\n",
            "0.022933586\n",
            "0.028821474\n",
            "0.025626162\n",
            "0.01691821\n",
            "0.022955025\n",
            "0.02523438\n",
            "Epoch 2, train acc = 0.9467333555221558 ,test acc = 0.9441999793052673\n",
            "0.013056374\n",
            "0.019024184\n",
            "0.015239847\n",
            "0.012443261\n",
            "0.008114476\n",
            "0.021228526\n",
            "0.016153788\n",
            "0.016005633\n",
            "0.018906185\n",
            "0.01871697\n",
            "Epoch 3, train acc = 0.9541833400726318 ,test acc = 0.9508999586105347\n",
            "0.01836065\n",
            "0.018456703\n",
            "0.016245583\n",
            "0.017011894\n",
            "0.020449666\n",
            "0.015836267\n",
            "0.013143979\n",
            "0.017304976\n",
            "0.020653365\n",
            "0.0051454348\n",
            "Epoch 4, train acc = 0.9607499837875366 ,test acc = 0.9536999464035034\n"
          ]
        }
      ]
    },
    {
      "cell_type": "markdown",
      "source": [
        "Accuracy of the training data =0.9607499837875366\n",
        "\n",
        "Accuracy of the testing data= 0.9536999464035034"
      ],
      "metadata": {
        "id": "604qRjGPbfES"
      }
    },
    {
      "cell_type": "code",
      "source": [
        "loss_array"
      ],
      "metadata": {
        "colab": {
          "base_uri": "https://localhost:8080/"
        },
        "id": "xZcK_J2-PKER",
        "outputId": "0757f9a5-52ef-4f0f-92a0-21cdf94ba26e"
      },
      "execution_count": 10,
      "outputs": [
        {
          "output_type": "execute_result",
          "data": {
            "text/plain": [
              "[0.06483483, 0.044628374, 0.03783298, 0.032346968, 0.029129744]"
            ]
          },
          "metadata": {},
          "execution_count": 10
        }
      ]
    },
    {
      "cell_type": "code",
      "source": [
        "import matplotlib.pyplot as plt #Importing matplotlib to draw graph between loss and no. of epochs"
      ],
      "metadata": {
        "id": "WYbKsVL6TOap"
      },
      "execution_count": 11,
      "outputs": []
    },
    {
      "cell_type": "code",
      "source": [
        "#Graph between loss and no. of epochs\n",
        "plt.plot(np.arange(num_epochs),loss_array)\n",
        "plt.xlabel('No. of epochs')\n",
        "plt.ylabel('Loss per epochs')\n",
        "plt.title('Loss vs Epochs')\n",
        "plt.show()\n",
        "#We can see that as the number epochs increases the value of loss function decreases"
      ],
      "metadata": {
        "colab": {
          "base_uri": "https://localhost:8080/",
          "height": 295
        },
        "id": "C3hObk6cTRv3",
        "outputId": "b34807c6-25fa-49c2-fc4d-8fea19dfd2c7"
      },
      "execution_count": 12,
      "outputs": [
        {
          "output_type": "display_data",
          "data": {
            "text/plain": [
              "<Figure size 432x288 with 1 Axes>"
            ],
            "image/png": "[encoded data removed]"
          },
          "metadata": {
            "needs_background": "light"
          }
        }
      ]
    }
  ]
}